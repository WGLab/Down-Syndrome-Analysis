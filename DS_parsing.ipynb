{
 "cells": [
  {
   "cell_type": "markdown",
   "metadata": {},
   "source": [
    "## Grab long, HQ files from local SQLite DB"
   ]
  },
  {
   "cell_type": "code",
   "execution_count": null,
   "metadata": {},
   "outputs": [],
   "source": [
    "!pip install sqlite3, quickumls\n",
    "# I needed ~16GB RAM for this step, contributed to GitHub issue fix\n",
    "!python -m quickumls.install \"/mnt/isilon/wang_lab/shared/datasets/UMLS_unzipped/2019AB-full/UMLS_lib/2019AB/META/\" quickumlsdata\n",
    "!python -m pip install git+https://github.com/GeneDx/phenopy.git@develop\n",
    "!python -m pip install git+https://github.com/GeneDx/txt2hpo.git@develop"
   ]
  },
  {
   "cell_type": "code",
   "execution_count": 3,
   "metadata": {},
   "outputs": [
    {
     "name": "stdout",
     "output_type": "stream",
     "text": [
      "Defaulting to user installation because normal site-packages is not writeable\n",
      "Collecting cx_Oracle\n",
      "  Downloading cx_Oracle-8.1.0-cp39-cp39-manylinux1_x86_64.whl (814 kB)\n",
      "\u001b[K     |████████████████████████████████| 814 kB 1.2 MB/s eta 0:00:01\n",
      "\u001b[?25hInstalling collected packages: cx-Oracle\n",
      "Successfully installed cx-Oracle-8.1.0\n",
      "\u001b[33mWARNING: You are using pip version 20.3.3; however, version 21.0.1 is available.\n",
      "You should consider upgrading via the '/cm/shared/apps_chop/python/3.9.1/bin/python3.9 -m pip install --upgrade pip' command.\u001b[0m\n"
     ]
    }
   ],
   "source": [
    "!pip install cx_Oracle"
   ]
  },
  {
   "cell_type": "code",
   "execution_count": 3,
   "metadata": {},
   "outputs": [],
   "source": [
    "import os, argparse, sys\n",
    "import cx_Oracle                                                                       \n",
    "import time\n",
    "import sys\n",
    "import sqlite3\n",
    "import os\n",
    "import numpy as np\n",
    "import scipy.stats as ss\n",
    "\n",
    "## Fill in your username and password\n",
    "clarity_user = ''\n",
    "clarity_psw = ''\n",
    "\n",
    "## if 'exaorat2' does not work, try 'exaorav2'\n",
    "dsnStr = cx_Oracle.makedsn(\"exaorat2-scan.chop.edu\", \"1521\", service_name=\"CLTprd_pri.chop.edu\")\n",
    "remote_con = cx_Oracle.connect(user = clarity_user, password = clarity_psw, dsn = dsnStr)\n",
    "remote_cur = remote_con.cursor()"
   ]
  },
  {
   "cell_type": "markdown",
   "metadata": {},
   "source": [
    "## Get demographic data"
   ]
  },
  {
   "cell_type": "code",
   "execution_count": 4,
   "metadata": {},
   "outputs": [],
   "source": [
    "xstr = lambda s: 'Unknown' if s is None else str(s)"
   ]
  },
  {
   "cell_type": "code",
   "execution_count": 17,
   "metadata": {},
   "outputs": [
    {
     "name": "stdout",
     "output_type": "stream",
     "text": [
      "[(1, 'White', 'WHITE', 'WH', 1), (2, 'Black or African American', 'BLACK OR AFRICAN AMERICAN', 'BL', 2), (4, 'American Indian/Eskimo/Alaska Native', 'AMERICAN INDIAN/ESKIMO/ALASKA NATIVE', 'AI', 4), (5, 'Asian', 'ASIAN', 'AP', 5), (6, 'Other', 'OTHER', 'OT', 6), (7, 'Hispanic or Latino White', 'HISPANIC OR LATINO WHITE', 'HIWH', 7), (8, 'Hispanic or Latino Black', 'HISPANIC OR LATINO BLACK', 'HIBL', 8), (9, 'Hispanic or Latino Other', 'HISPANIC OR LATINO OTHER', 'HIOT', 9), (10, 'Native Hawaiian/Pacific Islander', 'NATIVE HAWAIIAN/PACIFIC ISLANDER', 'NHPI', 10)]\n",
      "[('1', 'Female', 'FEMALE', 'F', '1'), ('2', 'Male', 'MALE', 'M', '2'), ('3', 'Unknown', 'UNKNOWN', 'U', '3'), ('950', 'Nonbinary', 'NONBINARY', 'NB', '950'), ('951', 'X', 'X', 'X', '951'), ('999', 'Other', 'OTHER', 'OTH', '999')]\n"
     ]
    }
   ],
   "source": [
    "remote_cmd = \"\"\"\n",
    "select * from ZC_ETHNIC_GROUP where rownum <10\n",
    "\"\"\"\n",
    "\n",
    "### execute the sql command\n",
    "remote_cur.execute(remote_cmd)\n",
    "\n",
    "### fetch all the data \n",
    "ethnicities = remote_cur.fetchall()\n",
    "\n",
    "### num of queried patients (as on 12/14/2020)\n",
    "print(ethnicities)\n",
    "\n",
    "remote_cmd = \"\"\"\n",
    "select * from ZC_SEX where rownum <10\n",
    "\"\"\"\n",
    "\n",
    "### execute the sql command\n",
    "remote_cur.execute(remote_cmd)\n",
    "\n",
    "### fetch all the data \n",
    "genders = remote_cur.fetchall()\n",
    "\n",
    "### num of queried patients (as on 12/14/2020)\n",
    "print(genders)"
   ]
  },
  {
   "cell_type": "code",
   "execution_count": 19,
   "metadata": {},
   "outputs": [
    {
     "name": "stdout",
     "output_type": "stream",
     "text": [
      "[(1, 'White', 'WHITE', 'WH', 1), (2, 'Black or African American', 'BLACK OR AFRICAN AMERICAN', 'BL', 2), (3, 'DO NOT USE', 'DO NOT USE', 'DO NOT USE', 3), (4, 'American Indian or Alaska Native', 'AMERICAN INDIAN OR ALASKA NATIVE', 'AI', 4), (5, 'Asian', 'ASIAN', 'AP', 5), (6, 'Other', 'OTHER', 'OT', 6), (7, 'Hispanic or Latino White', 'HISPANIC OR LATINO WHITE', 'HIWH', 7), (8, 'Hispanic or Latino Black', 'HISPANIC OR LATINO BLACK', 'HIBL', 8), (9, 'Hispanic or Latino Other', 'HISPANIC OR LATINO OTHER', 'HIOT', 9), (10, 'Native Hawaiian or Other Pacific Islander', 'NATIVE HAWAIIAN OR OTHER PACIFIC ISLANDER', 'NHPI', 10)]\n"
     ]
    }
   ],
   "source": [
    "remote_cmd = \"\"\"\n",
    "select * from ZC_PATIENT_RACE where rownum <=10\n",
    "\"\"\"\n",
    "\n",
    "### execute the sql command\n",
    "remote_cur.execute(remote_cmd)\n",
    "\n",
    "### fetch all the data \n",
    "races = remote_cur.fetchall()\n",
    "\n",
    "### num of queried patients (as on 12/14/2020)\n",
    "print(races)\n"
   ]
  },
  {
   "cell_type": "code",
   "execution_count": 49,
   "metadata": {},
   "outputs": [
    {
     "name": "stdout",
     "output_type": "stream",
     "text": [
      "85402\n"
     ]
    }
   ],
   "source": [
    "remote_cmd = \"\"\"\n",
    "\n",
    "with ds as   (select dx.pat_id, dx.dx_id, dx.CONTACT_DATE as ddate\n",
    "                from pat_enc_dx dx\n",
    "                inner join pat_enc e on e.pat_enc_Csn_id = dx.pat_enc_Csn_id\n",
    "                inner join edg_current_icd9 icd on icd.dx_Id = dx.dx_id\n",
    "                where icd.code like '758.0%'\n",
    "\n",
    "                union\n",
    "                select dx.pat_id, dx.dx_id, dx.CONTACT_DATE as ddate\n",
    "                from pat_enc_dx dx\n",
    "                inner join pat_enc e on e.pat_enc_Csn_id = dx.pat_enc_Csn_id\n",
    "                inner join edg_current_icd10 icd on icd.dx_Id = dx.dx_id\n",
    "                where icd.code like 'Q90.9%'\n",
    "\n",
    "                union\n",
    "                select h.pat_id, hdx.dx_id, hdx.DX_START_DT as ddate\n",
    "                from hsp_acct_dx_List hdx\n",
    "                inner join pat_enc_hsp h on h.hsp_account_id = hdx.hsp_account_id\n",
    "                inner join clarity_edg edg on edg.dx_Id = hdx.dx_Id\n",
    "                where (edg.ref_bill_code like '758.0%' or edg.ref_bill_code like 'Q90.9%')\n",
    "                and edg.ref_bill_code_set_c in (1,2)\n",
    "                -- ref_bill_code_set_c: 1 is ICD-9-CM and 2 is ICD-10-CM\n",
    "\n",
    "                union\n",
    "                select pl.pat_id, pl.dx_id, pl.NOTED_DATE as ddate\n",
    "                from problem_list pl\n",
    "                inner join edg_current_icd9 icd on icd.dx_Id = pl.dx_id\n",
    "                where icd.code like '758.0%'\n",
    "                and  (pl.problem_status_c is null or pl.problem_status_c <> 3)\n",
    "                -- problem_status_c: 3 is deleted\n",
    "\n",
    "                union\n",
    "                select pl.pat_id, pl.dx_id, pl.NOTED_DATE as ddate\n",
    "                from problem_list pl\n",
    "                inner join edg_current_icd10 icd on icd.dx_Id = pl.dx_id\n",
    "                where icd.code like 'Q90.9%'\n",
    "                 and  (pl.problem_status_c is null or pl.problem_status_c <> 3)\n",
    "\n",
    "                 ) -- inclusion diagnoses\n",
    "                 \n",
    "select distinct(p.pat_id), p.sex_c, p.ethnic_group_c, PATIENT_RACE.patient_race_c,\n",
    "        (ddate-p.birth_date)/365.25 as page\n",
    "        from patient p\n",
    "        inner join ds on ds.pat_id = p.pat_id\n",
    "        inner join PATIENT_RACE on PATIENT_RACE.pat_id = p.pat_id\n",
    "\"\"\"\n",
    "\n",
    "### execute the sql command\n",
    "remote_cur.execute(remote_cmd)\n",
    "\n",
    "### fetch all the data \n",
    "data = remote_cur.fetchall()\n",
    "print (len(data))"
   ]
  },
  {
   "cell_type": "code",
   "execution_count": 50,
   "metadata": {},
   "outputs": [
    {
     "name": "stdout",
     "output_type": "stream",
     "text": [
      "4081\n"
     ]
    }
   ],
   "source": [
    "# translation funcs/dicts here using ZC_SEX and ZC_ETHNIC_GROUP\n",
    "genderdict = {item[0]: item[1:] for item in genders}\n",
    "ethnicdict = {item[0]: item[1:] for item in ethnicities}\n",
    "racedict = {item[0]: item[1:] for item in races}\n",
    "patients=[]\n",
    "with open('filters/truedspats') as f:\n",
    "    for line in f:\n",
    "        patients.append(line.strip())\n",
    "from collections import defaultdict\n",
    "demo=defaultdict(list)\n",
    "for entry in data:\n",
    "    patid=entry[0]; race=xstr(entry[3]); date=entry[4]\n",
    "    if patid not in patients:\n",
    "        continue\n",
    "    try:\n",
    "        sex=xstr(genderdict[entry[1]][0])\n",
    "    except KeyError:\n",
    "        sex=\"Unknown\"\n",
    "    try:\n",
    "        ethnicity=xstr(ethnicdict[entry[2]][0])\n",
    "    except KeyError:\n",
    "        ethnicity=\"Unknown\"\n",
    "    try:\n",
    "        race=xstr(racedict[entry[3]][0])\n",
    "    except KeyError:\n",
    "        race=\"Unknown\"\n",
    "    if not date or date > 21 or date < -0.8:\n",
    "        date = 22\n",
    "    if not demo[patid] or demo[patid][3]>date:\n",
    "        demo[patid]=[sex,ethnicity,race,date]"
   ]
  },
  {
   "cell_type": "code",
   "execution_count": 128,
   "metadata": {},
   "outputs": [
    {
     "name": "stdout",
     "output_type": "stream",
     "text": [
      "-0.30116977076873586\n",
      "20.972367673531966\n",
      "1.9863515335701623\n",
      "4.913983336984749\n",
      "ModeResult(mode=array([0.]), count=array([129]))\n"
     ]
    },
    {
     "data": {
      "text/plain": [
       "(array([1928.,  371.,  284.,  276.,  234.,  244.,  229.,  168.,  107.,\n",
       "          77.]),\n",
       " array([-0.30116977,  1.82618397,  3.95353772,  6.08089146,  8.20824521,\n",
       "        10.33559895, 12.4629527 , 14.59030644, 16.71766018, 18.84501393,\n",
       "        20.97236767]),\n",
       " <BarContainer object of 10 artists>)"
      ]
     },
     "execution_count": 128,
     "metadata": {},
     "output_type": "execute_result"
    },
    {
     "data": {
      "image/png": "[encoded data removed]",
      "text/plain": [
       "<Figure size 432x288 with 1 Axes>"
      ]
     },
     "metadata": {
      "needs_background": "light"
     },
     "output_type": "display_data"
    }
   ],
   "source": [
    "patages=defaultdict(lambda: 99.0)\n",
    "ages=[]\n",
    "with open(\"/mnt/isilon/wang_lab/jim/Down-Syndrome-Clustering/dsages.tsv\") as f:\n",
    "    f.readline()\n",
    "    for line in f:\n",
    "        fields=line.strip().split()\n",
    "        pat=fields[0]; note=fields[1]; age=float(fields[2])\n",
    "        patages[pat]=min(patages[pat],age)\n",
    "\n",
    "for key, value in patages.items():\n",
    "    temp = [key,value]\n",
    "    ages.append(value)\n",
    "ages=np.array(ages)\n",
    "ages=ages[ages<21]\n",
    "ages=ages[ages>-0.8]\n",
    "print(min(ages))\n",
    "print(max(ages))\n",
    "print(np.nanmedian(ages))\n",
    "print(np.nanmean(ages))\n",
    "print(ss.mode(ages))\n",
    "from matplotlib import pyplot as plt\n",
    "plt.hist(ages)"
   ]
  },
  {
   "cell_type": "code",
   "execution_count": 34,
   "metadata": {},
   "outputs": [],
   "source": [
    "with open(\"/mnt/isilon/wang_lab/jim/Down-Syndrome-Clustering/demographics.tsv\", \"w\") as file:\n",
    "    print(\"patient\\tsex\\tethnicity\\tearliest_diagnosis_date\", file=file)\n",
    "    for patid in demo:\n",
    "        sex,ethnicity,race,date = demo[patid]\n",
    "        if date == 22:\n",
    "            date=\"Unknown\"\n",
    "        date = str(date)\n",
    "        print(\"\\t\".join([patid, sex, ethnicity, race, date]),file=file)"
   ]
  },
  {
   "cell_type": "code",
   "execution_count": 103,
   "metadata": {
    "scrolled": false
   },
   "outputs": [
    {
     "name": "stdout",
     "output_type": "stream",
     "text": [
      "130\n"
     ]
    }
   ],
   "source": [
    "%%bash\n",
    "cut -f 3,4 /mnt/isilon/wang_lab/jim/Down-Syndrome-Clustering/demographics.tsv | awk '{FS=\"\\t\"} {print $2\"\\t\"$1}' | sort | uniq -c | grep Asian | awk '{t+=$1} END {print t}'"
   ]
  },
  {
   "cell_type": "markdown",
   "metadata": {},
   "source": [
    "## Get age data for notes/terms"
   ]
  },
  {
   "cell_type": "code",
   "execution_count": 10,
   "metadata": {},
   "outputs": [
    {
     "data": {
      "text/plain": [
       "10"
      ]
     },
     "execution_count": 10,
     "metadata": {},
     "output_type": "execute_result"
    }
   ],
   "source": [
    "remote_cmd = \"\"\"\n",
    "select hno_info.pat_id,  \n",
    "       htext.note_id, htext.CONTACT_DATE, pat.birth_date, hno_info.current_author_id\n",
    "               \n",
    "        from hno_info\n",
    "        inner join hno_note_text htext on htext.note_id = hno_info.note_id\n",
    "        inner join patient pat on pat.pat_id = hno_info.pat_id where rownum <=10\n",
    "        and hno_info.current_author_id is not NULL\n",
    "\"\"\"\n",
    "\n",
    "### execute the sql command\n",
    "remote_cur.execute(remote_cmd)\n",
    "\n",
    "### fetch all the data \n",
    "data = remote_cur.fetchall()\n",
    "\n",
    "### num of queried patients (as on 12/14/2020)\n",
    "len(data)"
   ]
  },
  {
   "cell_type": "code",
   "execution_count": 2,
   "metadata": {},
   "outputs": [
    {
     "ename": "NameError",
     "evalue": "name 'data' is not defined",
     "output_type": "error",
     "traceback": [
      "\u001b[0;31m---------------------------------------------------------------------------\u001b[0m",
      "\u001b[0;31mNameError\u001b[0m                                 Traceback (most recent call last)",
      "\u001b[0;32m<ipython-input-2-9dfc4102d01b>\u001b[0m in \u001b[0;36m<module>\u001b[0;34m\u001b[0m\n\u001b[1;32m      1\u001b[0m \u001b[0;32mdef\u001b[0m \u001b[0mto_integer\u001b[0m\u001b[0;34m(\u001b[0m\u001b[0mdt_time\u001b[0m\u001b[0;34m)\u001b[0m\u001b[0;34m:\u001b[0m\u001b[0;34m\u001b[0m\u001b[0;34m\u001b[0m\u001b[0m\n\u001b[1;32m      2\u001b[0m     \u001b[0;32mreturn\u001b[0m \u001b[0;36m10000\u001b[0m\u001b[0;34m*\u001b[0m\u001b[0mdt_time\u001b[0m\u001b[0;34m.\u001b[0m\u001b[0myear\u001b[0m \u001b[0;34m+\u001b[0m \u001b[0;36m100\u001b[0m\u001b[0;34m*\u001b[0m\u001b[0mdt_time\u001b[0m\u001b[0;34m.\u001b[0m\u001b[0mmonth\u001b[0m \u001b[0;34m+\u001b[0m \u001b[0mdt_time\u001b[0m\u001b[0;34m.\u001b[0m\u001b[0mday\u001b[0m\u001b[0;34m\u001b[0m\u001b[0;34m\u001b[0m\u001b[0m\n\u001b[0;32m----> 3\u001b[0;31m \u001b[0mprint\u001b[0m\u001b[0;34m(\u001b[0m\u001b[0mto_integer\u001b[0m\u001b[0;34m(\u001b[0m\u001b[0mdata\u001b[0m\u001b[0;34m[\u001b[0m\u001b[0;36m1\u001b[0m\u001b[0;34m]\u001b[0m\u001b[0;34m[\u001b[0m\u001b[0;36m2\u001b[0m\u001b[0;34m]\u001b[0m\u001b[0;34m)\u001b[0m\u001b[0;34m)\u001b[0m\u001b[0;34m\u001b[0m\u001b[0;34m\u001b[0m\u001b[0m\n\u001b[0m\u001b[1;32m      4\u001b[0m \u001b[0mprint\u001b[0m\u001b[0;34m(\u001b[0m\u001b[0mdata\u001b[0m\u001b[0;34m[\u001b[0m\u001b[0;36m1\u001b[0m\u001b[0;34m]\u001b[0m\u001b[0;34m)\u001b[0m\u001b[0;34m\u001b[0m\u001b[0;34m\u001b[0m\u001b[0m\n",
      "\u001b[0;31mNameError\u001b[0m: name 'data' is not defined"
     ]
    }
   ],
   "source": [
    "def to_integer(dt_time):\n",
    "    return 10000*dt_time.year + 100*dt_time.month + dt_time.day\n",
    "print(to_integer(data[1][2]))\n",
    "print(data[1])"
   ]
  },
  {
   "cell_type": "code",
   "execution_count": null,
   "metadata": {},
   "outputs": [],
   "source": []
  },
  {
   "cell_type": "code",
   "execution_count": 15,
   "metadata": {},
   "outputs": [],
   "source": [
    "with open(\"/mnt/isilon/wang_lab/jim/patientnotes.tsv\", \"w\") as file:\n",
    "    print(\"patient\\tnote\\tadmission_date\\tbirth_date\", file=file)\n",
    "    for entry in data:\n",
    "        try:\n",
    "            adate=str(to_integer(entry[2]))\n",
    "        except AttributeError:\n",
    "            adate=\"NA\"\n",
    "        try:\n",
    "            bdate=str(to_integer(entry[3]))\n",
    "        except AttributeError:\n",
    "            bdate=\"NA\"\n",
    "        print(\"\\t\".join([entry[0],entry[1],adate,bdate]),file=file)\n"
   ]
  },
  {
   "cell_type": "code",
   "execution_count": 2,
   "metadata": {},
   "outputs": [],
   "source": [
    "import sqlite3\n",
    "## local sql-db name to store the notes of ASD patients\n",
    "local_db_name = 'ds_patient_check.db'\n",
    "## sqlite3.connect create a new sql-db if not exists, and it need ' .commit()' at the end to safe the sql-db\n",
    "local_con = sqlite3.connect(local_db_name)\n",
    "## .cursor() is to execute a sql_cmd, and to fetch data.\n",
    "local_cur = local_con.cursor()\n",
    "query=\"\"\"\n",
    "select * from note_text where length(note_text)>2000 and note_text like '%MRN:%' \n",
    "\"\"\" # add limit 20 to very end of query to limit and test lines\n",
    "local_cur.execute(query)\n",
    "data = local_cur.fetchall()\n",
    "local_cur.close()\n"
   ]
  },
  {
   "cell_type": "code",
   "execution_count": 3,
   "metadata": {
    "scrolled": true
   },
   "outputs": [
    {
     "data": {
      "text/plain": [
       "124104"
      ]
     },
     "execution_count": 3,
     "metadata": {},
     "output_type": "execute_result"
    }
   ],
   "source": [
    "len(data) # 369,598 was Mengge's initial count of DS notes at >2000 chars"
   ]
  }
 ],
 "metadata": {
  "kernelspec": {
   "display_name": "Python 3.8",
   "language": "python",
   "name": "python3"
  },
  "language_info": {
   "codemirror_mode": {
    "name": "ipython",
    "version": 3
   },
   "file_extension": ".py",
   "mimetype": "text/x-python",
   "name": "python",
   "nbconvert_exporter": "python",
   "pygments_lexer": "ipython3",
   "version": "3.8.5"
  }
 },
 "nbformat": 4,
 "nbformat_minor": 4
}
