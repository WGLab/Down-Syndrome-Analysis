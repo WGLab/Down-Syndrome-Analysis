{
 "cells": [
  {
   "cell_type": "code",
   "execution_count": null,
   "metadata": {},
   "outputs": [],
   "source": [
    "!pip install cx_Oracle"
   ]
  },
  {
   "cell_type": "code",
   "execution_count": 1,
   "metadata": {},
   "outputs": [],
   "source": [
    "import os, argparse, sys\n",
    "import cx_Oracle                                                                         \n",
    "import time\n",
    "import sys\n",
    "import sqlite3\n",
    "import os\n",
    "import numpy as np\n",
    "\n",
    "## Fill in your username and password\n",
    "clarity_user = ''\n",
    "clarity_psw = ''\n",
    "\n",
    "## if 'exaorat2' does not work, try 'exaorav2'\n",
    "dsnStr = cx_Oracle.makedsn(\"exaorat2-scan.chop.edu\", \"1521\", service_name=\"CLTprd_pri.chop.edu\")\n",
    "remote_con = cx_Oracle.connect(user = clarity_user, password = clarity_psw, dsn = dsnStr)\n",
    "remote_cur = remote_con.cursor()"
   ]
  },
  {
   "cell_type": "markdown",
   "metadata": {},
   "source": [
    "### Collect patient IDs by icd codes\n",
    "\n",
    "sql command to query Down Syndrome patients (ICD 10: Q90.9; ICD 9: 758.0) and their gender and birthday"
   ]
  },
  {
   "cell_type": "code",
   "execution_count": 6,
   "metadata": {},
   "outputs": [
    {
     "ename": "DatabaseError",
     "evalue": "ORA-00904: \"ICD\".\"CODE\": invalid identifier",
     "output_type": "error",
     "traceback": [
      "\u001b[0;31m---------------------------------------------------------------------------\u001b[0m",
      "\u001b[0;31mDatabaseError\u001b[0m                             Traceback (most recent call last)",
      "\u001b[0;32m<ipython-input-6-07bc8a225f4b>\u001b[0m in \u001b[0;36m<module>\u001b[0;34m\u001b[0m\n\u001b[1;32m     46\u001b[0m \"\"\"\n\u001b[1;32m     47\u001b[0m \u001b[0;31m### execute the sql command\u001b[0m\u001b[0;34m\u001b[0m\u001b[0;34m\u001b[0m\u001b[0;34m\u001b[0m\u001b[0m\n\u001b[0;32m---> 48\u001b[0;31m \u001b[0mremote_cur\u001b[0m\u001b[0;34m.\u001b[0m\u001b[0mexecute\u001b[0m\u001b[0;34m(\u001b[0m\u001b[0mremote_cmd\u001b[0m\u001b[0;34m)\u001b[0m\u001b[0;34m\u001b[0m\u001b[0;34m\u001b[0m\u001b[0m\n\u001b[0m\u001b[1;32m     49\u001b[0m \u001b[0;34m\u001b[0m\u001b[0m\n\u001b[1;32m     50\u001b[0m \u001b[0;31m### fetch all the data\u001b[0m\u001b[0;34m\u001b[0m\u001b[0;34m\u001b[0m\u001b[0;34m\u001b[0m\u001b[0m\n",
      "\u001b[0;31mDatabaseError\u001b[0m: ORA-00904: \"ICD\".\"CODE\": invalid identifier"
     ]
    }
   ],
   "source": [
    "\n",
    "remote_cmd = \"\"\"\n",
    "\n",
    "with ds as   (select dx.pat_id,dx.dx_id\n",
    "                from pat_enc_dx dx\n",
    "                inner join pat_enc e on e.pat_enc_Csn_id = dx.pat_enc_Csn_id\n",
    "                inner join edg_current_icd9 icd on icd.dx_Id = dx.dx_id\n",
    "                where icd.code like '758.0%'\n",
    "\n",
    "                union\n",
    "                select dx.pat_id, dx.dx_id\n",
    "                from pat_enc_dx dx\n",
    "                inner join pat_enc e on e.pat_enc_Csn_id = dx.pat_enc_Csn_id\n",
    "                inner join edg_current_icd10 icd on icd.dx_Id = dx.dx_id\n",
    "                where icd.code like 'Q90.9%'\n",
    "\n",
    "                union\n",
    "                select h.pat_id, hdx.dx_id\n",
    "                from hsp_acct_dx_List hdx\n",
    "                inner join pat_enc_hsp h on h.hsp_account_id = hdx.hsp_account_id\n",
    "                inner join clarity_edg edg on edg.dx_Id = hdx.dx_Id\n",
    "                where (edg.ref_bill_code like '758.0%' or edg.ref_bill_code like 'Q90.9%')\n",
    "                and edg.ref_bill_code_set_c in (1,2)\n",
    "                -- ref_bill_code_set_c: 1 is ICD-9-CM and 2 is ICD-10-CM\n",
    "\n",
    "                union\n",
    "                select pl.pat_id,pl.dx_id\n",
    "                from problem_list pl\n",
    "                inner join edg_current_icd9 icd on icd.dx_Id = pl.dx_id\n",
    "                where icd.code like '758.0%'\n",
    "                and  (pl.problem_status_c is null or pl.problem_status_c <> 3)\n",
    "                -- problem_status_c: 3 is deleted\n",
    "\n",
    "                union\n",
    "                select pl.pat_id,pl.dx_id\n",
    "                from problem_List pl\n",
    "                inner join edg_current_icd10 icd on icd.dx_Id = pl.dx_id\n",
    "                where icd.code like 'Q90.9%'\n",
    "                 and  (pl.problem_status_c is null or pl.problem_status_c <> 3)\n",
    "\n",
    "                 ) -- inclusion diagnoses\n",
    "                 \n",
    "select distinct(p.pat_id), p.sex_c, p.birth_date\n",
    "        from patient p\n",
    "        inner join ds on ds.pat_id = p.pat_id\n",
    "        inner join zc_sex  sex on sex.rcpt_mem_sex_c = p.sex_c\n",
    "\"\"\"\n",
    "### execute the sql command\n",
    "remote_cur.execute(remote_cmd)\n",
    "\n",
    "### fetch all the data \n",
    "data = remote_cur.fetchall()\n",
    "\n",
    "### num of queried patients (as on 12/14/2020)\n",
    "len(data)"
   ]
  },
  {
   "cell_type": "markdown",
   "metadata": {},
   "source": [
    "## store the data in the asd_dict ('dict' is 'hashkey' in other languages)"
   ]
  },
  {
   "cell_type": "code",
   "execution_count": 4,
   "metadata": {},
   "outputs": [
    {
     "data": {
      "text/plain": [
       "4417"
      ]
     },
     "execution_count": 4,
     "metadata": {},
     "output_type": "execute_result"
    }
   ],
   "source": [
    "\n",
    "\n",
    "asd_dict = dict()\n",
    "\n",
    "for d in data:\n",
    "    pat_id = d[0]\n",
    "    sex = d[1]\n",
    "    birth = d[2]\n",
    "    asd_dict[pat_id] = [sex,birth]\n",
    "    \n",
    "### num of queried patients (as on 1/25/2021)    \n",
    "len(asd_dict)"
   ]
  },
  {
   "cell_type": "code",
   "execution_count": 2,
   "metadata": {},
   "outputs": [],
   "source": [
    "nonds_nonpsy_pat = os.listdir('/mnt/isilon/wang_lab/shared/datasets/nonds_nonpsy_hpo_data')"
   ]
  },
  {
   "cell_type": "markdown",
   "metadata": {},
   "source": [
    "### Query the ICD"
   ]
  },
  {
   "cell_type": "code",
   "execution_count": 3,
   "metadata": {},
   "outputs": [],
   "source": [
    "pat_icd_dict = dict()"
   ]
  },
  {
   "cell_type": "code",
   "execution_count": 4,
   "metadata": {},
   "outputs": [],
   "source": [
    "\n",
    "remote_cmd = \"\"\"\n",
    "\n",
    "select dx.pat_id,dx.dx_id, icd.code \n",
    "                from pat_enc_dx dx\n",
    "                inner join pat_enc e on e.pat_enc_Csn_id = dx.pat_enc_Csn_id\n",
    "                inner join edg_current_icd9 icd on icd.dx_Id = dx.dx_id\n",
    "                where dx.pat_id= '{}'\n",
    "\n",
    "                union\n",
    "                select dx.pat_id, dx.dx_id, icd.code \n",
    "                from pat_enc_dx dx\n",
    "                inner join pat_enc e on e.pat_enc_Csn_id = dx.pat_enc_Csn_id\n",
    "                inner join edg_current_icd10 icd on icd.dx_Id = dx.dx_id\n",
    "                where dx.pat_id= '{}'\n",
    "\n",
    "                union\n",
    "                select h.pat_id, hdx.dx_id, edg.ref_bill_code \n",
    "                from hsp_acct_dx_List hdx\n",
    "                inner join pat_enc_hsp h on h.hsp_account_id = hdx.hsp_account_id\n",
    "                inner join clarity_edg edg on edg.dx_Id = hdx.dx_Id\n",
    "                where h.pat_id= '{}'\n",
    "                and edg.ref_bill_code_set_c in (1,2)\n",
    "                -- ref_bill_code_set_c: 1 is ICD-9-CM and 2 is ICD-10-CM\n",
    "\n",
    "                union\n",
    "                select pl.pat_id,pl.dx_id, icd.code \n",
    "                from problem_list pl\n",
    "                inner join edg_current_icd9 icd on icd.dx_Id = pl.dx_id\n",
    "                where pl.pat_id= '{}'\n",
    "                and  (pl.problem_status_c is null or pl.problem_status_c <> 3)\n",
    "                -- problem_status_c: 3 is deleted\n",
    "\n",
    "                union\n",
    "                select pl.pat_id,pl.dx_id, icd.code \n",
    "                from problem_List pl\n",
    "                inner join edg_current_icd10 icd on icd.dx_Id = pl.dx_id\n",
    "                where pl.pat_id= '{}'\n",
    "                 and  (pl.problem_status_c is null or pl.problem_status_c <> 3)\n",
    "\n",
    "\n",
    "\"\"\""
   ]
  },
  {
   "cell_type": "code",
   "execution_count": 6,
   "metadata": {},
   "outputs": [
    {
     "name": "stdout",
     "output_type": "stream",
     "text": [
      "queried 500 patients ICD code.\n",
      "queried 1000 patients ICD code.\n",
      "queried 1500 patients ICD code.\n",
      "queried 2000 patients ICD code.\n",
      "queried 2500 patients ICD code.\n",
      "queried 3000 patients ICD code.\n",
      "queried 3500 patients ICD code.\n",
      "queried 4000 patients ICD code.\n"
     ]
    }
   ],
   "source": [
    "pcnt = 0\n",
    "\n",
    "for p in nonds_nonpsy_pat:\n",
    "    pcnt += 1\n",
    "    ### execute the sql command\n",
    "    remote_cur.execute(remote_cmd.format(p,p,p,p,p))\n",
    "\n",
    "    ### fetch all the data \n",
    "    data = remote_cur.fetchall()\n",
    "\n",
    "    ### num of queried patients (as on 1/25/2021)\n",
    "    len(data)\n",
    "    \n",
    "    icd_set = set()\n",
    "    \n",
    "    for d in data:\n",
    "        icd_set.add(d[2])\n",
    "        \n",
    "    pat_icd_dict[p] = icd_set\n",
    "    \n",
    "    \n",
    "    if(pcnt % 500 ==0): print('queried {} patients ICD code.'.format(str(pcnt)))"
   ]
  },
  {
   "cell_type": "code",
   "execution_count": 8,
   "metadata": {},
   "outputs": [],
   "source": [
    "file_name = '/mnt/isilon/wang_lab/shared/datasets/DownSyndromeData/nonDS_nonPsy_patients_icds.tsv'\n",
    "\n",
    "with open(file_name, 'w+') as fw:\n",
    "    for p in pat_icd_dict.keys():\n",
    "        fw.write('{}\\t{}\\n'.format(p, '|'.join(pat_icd_dict[p])))"
   ]
  },
  {
   "cell_type": "markdown",
   "metadata": {},
   "source": [
    "### Query ICD of all patients"
   ]
  },
  {
   "cell_type": "code",
   "execution_count": 2,
   "metadata": {},
   "outputs": [],
   "source": [
    "\n",
    "remote_cmd = \"\"\"\n",
    "\n",
    "select dx.pat_id,dx.dx_id, icd.code \n",
    "                from pat_enc_dx dx\n",
    "                inner join pat_enc e on e.pat_enc_Csn_id = dx.pat_enc_Csn_id\n",
    "                inner join edg_current_icd9 icd on icd.dx_Id = dx.dx_id\n",
    "\n",
    "\n",
    "                union\n",
    "                select dx.pat_id, dx.dx_id, icd.code \n",
    "                from pat_enc_dx dx\n",
    "                inner join pat_enc e on e.pat_enc_Csn_id = dx.pat_enc_Csn_id\n",
    "                inner join edg_current_icd10 icd on icd.dx_Id = dx.dx_id\n",
    "\n",
    "\n",
    "                union\n",
    "                select h.pat_id, hdx.dx_id, edg.ref_bill_code \n",
    "                from hsp_acct_dx_List hdx\n",
    "                inner join pat_enc_hsp h on h.hsp_account_id = hdx.hsp_account_id\n",
    "                inner join clarity_edg edg on edg.dx_Id = hdx.dx_Id\n",
    "\n",
    "                and edg.ref_bill_code_set_c in (1,2)\n",
    "                -- ref_bill_code_set_c: 1 is ICD-9-CM and 2 is ICD-10-CM\n",
    "\n",
    "                union\n",
    "                select pl.pat_id,pl.dx_id, icd.code \n",
    "                from problem_list pl\n",
    "                inner join edg_current_icd9 icd on icd.dx_Id = pl.dx_id\n",
    "\n",
    "                and  (pl.problem_status_c is null or pl.problem_status_c <> 3)\n",
    "                -- problem_status_c: 3 is deleted\n",
    "\n",
    "                union\n",
    "                select pl.pat_id,pl.dx_id, icd.code \n",
    "                from problem_List pl\n",
    "                inner join edg_current_icd10 icd on icd.dx_Id = pl.dx_id\n",
    "\n",
    "                 and  (pl.problem_status_c is null or pl.problem_status_c <> 3)\n",
    "\n",
    "\n",
    "\"\"\""
   ]
  },
  {
   "cell_type": "code",
   "execution_count": 10,
   "metadata": {},
   "outputs": [],
   "source": [
    "local_db = '../pat_icd.db'"
   ]
  },
  {
   "cell_type": "code",
   "execution_count": 19,
   "metadata": {},
   "outputs": [],
   "source": [
    "\n",
    "local_con = sqlite3.connect(local_db)\n",
    "local_cur = local_con.cursor()"
   ]
  },
  {
   "cell_type": "code",
   "execution_count": 21,
   "metadata": {},
   "outputs": [],
   "source": [
    "### Create tables\n",
    "def create_table(conn, create_table_sql):\n",
    "    \"\"\" create a table from the create_table_sql statement\n",
    "    :param conn: Connection object\n",
    "    :param create_table_sql: a CREATE TABLE statement\n",
    "    :return:\n",
    "    \"\"\"\n",
    "    try:\n",
    "        c = conn.cursor()\n",
    "        c.execute(create_table_sql)\n",
    "    except Error as e:\n",
    "        print(e)\n",
    "    finally:\n",
    "        if c:\n",
    "            c.close()\n",
    "\n",
    "## sql command to create the table to store patients' data (pat_id, gender, birthdays)\n",
    "pat_icd_table = \"\"\"CREATE TABLE IF NOT EXISTS ICD (\n",
    "                                        pat_id text,\n",
    "                                        icd text\n",
    "                                        \n",
    "                                    ); \"\"\"\n",
    "\n",
    "\n",
    "create_table(local_con, pat_icd_table)\n",
    "local_con.commit()"
   ]
  },
  {
   "cell_type": "code",
   "execution_count": 13,
   "metadata": {},
   "outputs": [],
   "source": [
    "def local_sql_insert(conn, insert_cmd, insert_data):\n",
    "    \"\"\"\n",
    "    Create a new task\n",
    "    :param conn:\n",
    "    :return:\n",
    "    \"\"\"\n",
    "    cur = conn.cursor()\n",
    "    cur.execute(insert_cmd, insert_data)\n",
    "    #conn.commit()\n",
    "    cur.close()\n",
    "    return cur.lastrowid\n"
   ]
  },
  {
   "cell_type": "code",
   "execution_count": 14,
   "metadata": {},
   "outputs": [],
   "source": [
    "### execute the sql command\n",
    "remote_cur.execute(remote_cmd)\n",
    "\n",
    "### fetch all the data \n",
    "data = remote_cur.fetchall()"
   ]
  },
  {
   "cell_type": "code",
   "execution_count": 15,
   "metadata": {},
   "outputs": [],
   "source": [
    "err_log = 'icd_query.err.0211'"
   ]
  },
  {
   "cell_type": "code",
   "execution_count": 22,
   "metadata": {},
   "outputs": [],
   "source": [
    "for d in data:\n",
    "    pat_id = d[0]\n",
    "    icd = d[2]\n",
    "    try:    \n",
    "        local_insert_cmd_patients = ''' INSERT INTO ICD (pat_id, icd) VALUES(?, ?) '''\n",
    "        local_insert_data = (pat_id,icd)\n",
    "        local_sql_insert(local_con, local_insert_cmd_patients,local_insert_data )\n",
    "    ## if it meets an error, the error message is written down in a log file\n",
    "    except Exception as e:\n",
    "        print(e)\n",
    "        fa = open(\"err_log\", 'a+')\n",
    "        fa.write(\"Error in {}'\\n\".format(str(d) ))\n",
    "        fa.write(str(e))\n",
    "        fa.write('\\n')\n",
    "        fa.close()\n",
    "        continue\n",
    "    "
   ]
  },
  {
   "cell_type": "code",
   "execution_count": 23,
   "metadata": {},
   "outputs": [],
   "source": [
    "local_con.commit()"
   ]
  },
  {
   "cell_type": "code",
   "execution_count": 18,
   "metadata": {},
   "outputs": [],
   "source": [
    "local_con.close()"
   ]
  },
  {
   "cell_type": "code",
   "execution_count": null,
   "metadata": {},
   "outputs": [],
   "source": []
  }
 ],
 "metadata": {
  "kernelspec": {
   "display_name": "Python 3",
   "language": "python",
   "name": "python3"
  },
  "language_info": {
   "codemirror_mode": {
    "name": "ipython",
    "version": 3
   },
   "file_extension": ".py",
   "mimetype": "text/x-python",
   "name": "python",
   "nbconvert_exporter": "python",
   "pygments_lexer": "ipython3",
   "version": "3.8.3"
  }
 },
 "nbformat": 4,
 "nbformat_minor": 4
}
