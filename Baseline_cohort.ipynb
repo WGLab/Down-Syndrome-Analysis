{
 "cells": [
  {
   "cell_type": "code",
   "execution_count": 1,
   "metadata": {},
   "outputs": [],
   "source": [
    "import sqlite3\n",
    "\n",
    "pat_icd_db = '/mnt/isilon/wang_lab/mengge/project/clarity_sql/claitydata/pat_icd.db'\n",
    "icd_con = sqlite3.connect(pat_icd_db)\n",
    "icd_cur = icd_con.cursor()"
   ]
  },
  {
   "cell_type": "markdown",
   "metadata": {},
   "source": [
    "### DS pat ids"
   ]
  },
  {
   "cell_type": "code",
   "execution_count": 13,
   "metadata": {},
   "outputs": [
    {
     "data": {
      "text/plain": [
       "4406"
      ]
     },
     "execution_count": 13,
     "metadata": {},
     "output_type": "execute_result"
    }
   ],
   "source": [
    "import os\n",
    "ds_pat = set()\n",
    "ds_data_dir = '/mnt/isilon/wang_lab/mengge/project/DownSymdrome/ds_notes'\n",
    "for i in os.listdir(ds_data_dir ):\n",
    "    ds_pat.add(i)\n",
    "    \n",
    "len(ds_pat)"
   ]
  },
  {
   "cell_type": "markdown",
   "metadata": {},
   "source": [
    "### find what DS pats have 22q ICD codes"
   ]
  },
  {
   "cell_type": "code",
   "execution_count": 14,
   "metadata": {},
   "outputs": [],
   "source": [
    "icd_22q=['Q93.81','D82.1', '279.11','758.32']\n"
   ]
  },
  {
   "cell_type": "code",
   "execution_count": 15,
   "metadata": {},
   "outputs": [],
   "source": [
    "dspat_22q_dict = dict()"
   ]
  },
  {
   "cell_type": "code",
   "execution_count": 16,
   "metadata": {},
   "outputs": [
    {
     "name": "stdout",
     "output_type": "stream",
     "text": [
      "querying for Q93.81\n",
      "querying for D82.1\n",
      "querying for 279.11\n",
      "querying for 758.32\n"
     ]
    }
   ],
   "source": [
    "for icd in icd_22q:\n",
    "    cmd = \"select distinct(pat_id) from ICD where icd like '{}%'\".format(icd)\n",
    "    print('querying for {}'.format(icd))\n",
    "    icd_cur.execute(cmd)\n",
    "    data = icd_cur.fetchall()\n",
    "    \n",
    "    for d in data:\n",
    "        if(d[0] in ds_pat): dspat_22q_dict[d[0]] = True\n",
    "        \n",
    "for p in ds_pat:\n",
    "    if(dspat_22q_dict.get(p) == None): dspat_22q_dict[p] = False"
   ]
  },
  {
   "cell_type": "code",
   "execution_count": 17,
   "metadata": {},
   "outputs": [
    {
     "name": "stdout",
     "output_type": "stream",
     "text": [
      "115 of the DS patients have 22q ICD codes\n"
     ]
    }
   ],
   "source": [
    "num_22q = 0\n",
    "\n",
    "for pat in dspat_22q_dict.keys():\n",
    "    if(dspat_22q_dict[pat] == True):\n",
    "        num_22q +=1\n",
    "        \n",
    "print('{} of the DS patients have 22q ICD codes'.format(str(num_22q)))"
   ]
  },
  {
   "cell_type": "markdown",
   "metadata": {},
   "source": [
    "### Query patients having heart disease ICD"
   ]
  },
  {
   "cell_type": "code",
   "execution_count": 2,
   "metadata": {},
   "outputs": [],
   "source": [
    "heart_icd = [str(i) for i in range(390, 460)]\n",
    "heart_icd.append('I')"
   ]
  },
  {
   "cell_type": "code",
   "execution_count": 3,
   "metadata": {},
   "outputs": [],
   "source": [
    "control_heart_pat_dict = dict()"
   ]
  },
  {
   "cell_type": "code",
   "execution_count": 4,
   "metadata": {},
   "outputs": [],
   "source": [
    "all_heart_pat = set()"
   ]
  },
  {
   "cell_type": "code",
   "execution_count": 7,
   "metadata": {},
   "outputs": [
    {
     "name": "stdout",
     "output_type": "stream",
     "text": [
      "querying for ICD code: 390\n",
      "querying for ICD code: 391\n",
      "querying for ICD code: 392\n",
      "querying for ICD code: 393\n",
      "querying for ICD code: 394\n",
      "querying for ICD code: 395\n",
      "querying for ICD code: 396\n",
      "querying for ICD code: 397\n",
      "querying for ICD code: 398\n",
      "querying for ICD code: 399\n",
      "querying for ICD code: 400\n",
      "querying for ICD code: 401\n",
      "querying for ICD code: 402\n",
      "querying for ICD code: 403\n",
      "querying for ICD code: 404\n",
      "querying for ICD code: 405\n",
      "querying for ICD code: 406\n",
      "querying for ICD code: 407\n",
      "querying for ICD code: 408\n",
      "querying for ICD code: 409\n",
      "querying for ICD code: 410\n",
      "querying for ICD code: 411\n",
      "querying for ICD code: 412\n",
      "querying for ICD code: 413\n",
      "querying for ICD code: 414\n",
      "querying for ICD code: 415\n",
      "querying for ICD code: 416\n",
      "querying for ICD code: 417\n",
      "querying for ICD code: 418\n",
      "querying for ICD code: 419\n",
      "querying for ICD code: 420\n",
      "querying for ICD code: 421\n",
      "querying for ICD code: 422\n",
      "querying for ICD code: 423\n",
      "querying for ICD code: 424\n",
      "querying for ICD code: 425\n",
      "querying for ICD code: 426\n",
      "querying for ICD code: 427\n",
      "querying for ICD code: 428\n",
      "querying for ICD code: 429\n",
      "querying for ICD code: 430\n",
      "querying for ICD code: 431\n",
      "querying for ICD code: 432\n",
      "querying for ICD code: 433\n",
      "querying for ICD code: 434\n",
      "querying for ICD code: 435\n",
      "querying for ICD code: 436\n",
      "querying for ICD code: 437\n",
      "querying for ICD code: 438\n",
      "querying for ICD code: 439\n",
      "querying for ICD code: 440\n",
      "querying for ICD code: 441\n",
      "querying for ICD code: 442\n",
      "querying for ICD code: 443\n",
      "querying for ICD code: 444\n",
      "querying for ICD code: 445\n",
      "querying for ICD code: 446\n",
      "querying for ICD code: 447\n",
      "querying for ICD code: 448\n",
      "querying for ICD code: 449\n",
      "querying for ICD code: 450\n",
      "querying for ICD code: 451\n",
      "querying for ICD code: 452\n",
      "querying for ICD code: 453\n",
      "querying for ICD code: 454\n",
      "querying for ICD code: 455\n",
      "querying for ICD code: 456\n",
      "querying for ICD code: 457\n",
      "querying for ICD code: 458\n",
      "querying for ICD code: 459\n",
      "querying for ICD code: I\n"
     ]
    }
   ],
   "source": [
    "all_heart_pat = set()\n",
    "for icd in heart_icd:\n",
    "    cmd = \"select distinct(pat_id) from ICD where icd like '{}%'\".format(icd)\n",
    "    print('querying for ICD code: {}'.format(icd))\n",
    "    icd_cur.execute(cmd)\n",
    "    data = icd_cur.fetchall()\n",
    "    \n",
    "    for d in data:\n",
    "        all_heart_pat.add(d[0])"
   ]
  },
  {
   "cell_type": "code",
   "execution_count": null,
   "metadata": {},
   "outputs": [],
   "source": []
  },
  {
   "cell_type": "code",
   "execution_count": null,
   "metadata": {},
   "outputs": [],
   "source": []
  },
  {
   "cell_type": "code",
   "execution_count": null,
   "metadata": {},
   "outputs": [],
   "source": []
  },
  {
   "cell_type": "markdown",
   "metadata": {},
   "source": [
    "### Get Control pats"
   ]
  },
  {
   "cell_type": "code",
   "execution_count": 8,
   "metadata": {},
   "outputs": [],
   "source": [
    "import sqlite3\n",
    "\n",
    "db = '/mnt/isilon/wang_lab/mengge/project/autism_notes/nonpsy_nonasd_patient.db'\n",
    "note_con = sqlite3.connect(db)\n",
    "note_cur = note_con.cursor()"
   ]
  },
  {
   "cell_type": "code",
   "execution_count": 18,
   "metadata": {},
   "outputs": [
    {
     "name": "stdout",
     "output_type": "stream",
     "text": [
      "Find 1000 desired control patients\n",
      "Find 2000 desired control patients\n",
      "Find 3000 desired control patients\n",
      "Find 4000 desired control patients\n",
      "Find 5000 desired control patients\n",
      "Find 6000 desired control patients\n"
     ]
    }
   ],
   "source": [
    "cmd = 'select * from patients'\n",
    "note_cur.execute(cmd)\n",
    "\n",
    "control_pats = set()\n",
    "\n",
    "\n",
    "data  = note_cur.fetchone()\n",
    "while(data and len(control_pats) <= (len(ds_pat) - num_22q + 2000)  ):\n",
    "    pat = data[0]\n",
    "    if(pat not in ds_pat and pat not in all_heart_pat): control_pats.add(pat)\n",
    "    data  = note_cur.fetchone()\n",
    "    if(len(control_pats) % 1000 == 0):\n",
    "        print('Find {} desired control patients'.format(str(len(control_pats))))"
   ]
  },
  {
   "cell_type": "code",
   "execution_count": 20,
   "metadata": {},
   "outputs": [],
   "source": [
    "with open('../cotrol_pat', 'w+') as fw:\n",
    "    fw.write('\\n'.join(control_pats))"
   ]
  },
  {
   "cell_type": "markdown",
   "metadata": {},
   "source": [
    "### Query the Control Patients Notes Using Respublica (qsub)"
   ]
  },
  {
   "cell_type": "code",
   "execution_count": null,
   "metadata": {},
   "outputs": [],
   "source": [
    "n_process = 40\n",
    "for i in range(n_process):\n",
    "    database = db\n",
    "    idx = i\n",
    "    num = n_process\n",
    "    l = '../cotrol_pat'\n",
    "    o = nonds_nonpsy_notes\n",
    "    \n",
    "    cmd = \"echo 'python ../query_notes.py -db {} -i {} -n {} -l {} -o {} -a' | qsub -cwd -V -o ../newadded/{}.o -e ../newadded/{}.e\".format(database, str(i), str(n_process), l,o, str(i),str(i))\n",
    "    \n",
    "    os.system(cmd)"
   ]
  },
  {
   "cell_type": "code",
   "execution_count": 21,
   "metadata": {},
   "outputs": [],
   "source": [
    "icd_cur.close()\n",
    "icd_con.close()"
   ]
  },
  {
   "cell_type": "code",
   "execution_count": 22,
   "metadata": {},
   "outputs": [],
   "source": [
    "note_cur.close()\n",
    "note_con.close()"
   ]
  },
  {
   "cell_type": "code",
   "execution_count": null,
   "metadata": {},
   "outputs": [],
   "source": []
  }
 ],
 "metadata": {
  "kernelspec": {
   "display_name": "Python 3",
   "language": "python",
   "name": "python3"
  },
  "language_info": {
   "codemirror_mode": {
    "name": "ipython",
    "version": 3
   },
   "file_extension": ".py",
   "mimetype": "text/x-python",
   "name": "python",
   "nbconvert_exporter": "python",
   "pygments_lexer": "ipython3",
   "version": "3.8.3"
  }
 },
 "nbformat": 4,
 "nbformat_minor": 4
}
